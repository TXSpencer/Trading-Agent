{
 "cells": [
  {
   "cell_type": "code",
   "execution_count": 36,
   "metadata": {},
   "outputs": [],
   "source": [
    "import csv\n",
    "import gym\n",
    "from gym import spaces\n",
    "import numpy as np"
   ]
  },
  {
   "cell_type": "code",
   "execution_count": 6,
   "metadata": {},
   "outputs": [],
   "source": [
    "tickers = [\"AAPL\", \"AMZN\", \"GOOGL\", \"MSFT\", \"NVDA\", \"TSLA\"]\n",
    "\n",
    "data = {i: {ticker: float(row[ticker]) for ticker in tickers} \\\n",
    "                    for i, row in enumerate(csv.DictReader( \\\n",
    "                    open(\"nasdaq_stock_prices.csv\", mode='r'), delimiter=','))}"
   ]
  },
  {
   "cell_type": "code",
   "execution_count": null,
   "metadata": {},
   "outputs": [],
   "source": [
    "class Environment(gym.Env):\n",
    "    def __init__(self, data: dict, window_size: int, initial_balance: float):\n",
    "        self.data = data\n",
    "        self.max_steps = len(data) - 1\n",
    "        self.tickers = list(data[0].keys())\n",
    "        self.window_size = window_size\n",
    "\n",
    "        self.current_step = 0\n",
    "\n",
    "        self.initial_balance = initial_balance\n",
    "        self.history_balance = {0: self.initial_balance}\n",
    "        self.current_balance = self.history_balance[self.current_step]\n",
    "\n",
    "        self.initial_shares = {ticker: 0 for ticker in self.tickers}\n",
    "        self.history_shares = {0: self.initial_shares}\n",
    "        self.current_shares = self.history_shares[self.current_step]\n",
    "\n",
    "        self.initial_profit = 0\n",
    "        self.history_profit = {0: self.initial_profit}\n",
    "        self.current_profit = self.history_profit[self.current_step]\n",
    "\n",
    "        self.action_space = spaces.Box(low = -1, high = 1, shape = (len(tickers),), dtype = np.float16)\n",
    "        self.observation_space = spaces.Box(low = 0, high = 1, shape = (len(tickers) * 2,), dtype = np.float16)\n",
    "\n",
    "        self.done = False\n",
    "\n",
    "    def reset(self):\n",
    "        self.current_step = 0\n",
    "        self.history_balance = {0: self.initial_balance}\n",
    "        self.current_balance = self.initial_balance\n",
    "        self.history_shares = {0: self.initial_shares}\n",
    "        self.current_shares = self.initial_shares\n",
    "        self.history_profit = {0: self.initial_profit}\n",
    "        self.current_profit = self.initial_profit\n",
    "        self.done = False\n",
    "        return self._get_state()\n",
    "    \n",
    "    def render(self):\n",
    "        return self.history_balance, self.history_shares, self.history_profit\n",
    "    \n",
    "    def _get_state(self):\n",
    "        start = max(0, self.current_step - self.window_size)\n",
    "        end = self.current_step + 1\n",
    "        return self.data[start, end], self.history_balance[start, end], self.history_shares[start, end], self.history_profit[start, end]\n",
    "    \n",
    "    def step(self, action):\n",
    "        pass"
   ]
  },
  {
   "cell_type": "code",
   "execution_count": 31,
   "metadata": {},
   "outputs": [],
   "source": [
    "environment = Environment(data, 10, initial_balance=1000)"
   ]
  },
  {
   "cell_type": "code",
   "execution_count": 33,
   "metadata": {},
   "outputs": [
    {
     "data": {
      "text/plain": [
       "['AAPL', 'AMZN', 'GOOGL', 'MSFT', 'NVDA', 'TSLA']"
      ]
     },
     "execution_count": 33,
     "metadata": {},
     "output_type": "execute_result"
    }
   ],
   "source": [
    "environment.tickers"
   ]
  },
  {
   "cell_type": "code",
   "execution_count": null,
   "metadata": {},
   "outputs": [],
   "source": [
    "class Agent:\n",
    "    def __init__(self, env):\n",
    "        self.env = env\n",
    "\n",
    "    def train(self):\n",
    "        pass\n",
    "\n",
    "    def test(self):\n",
    "        pass"
   ]
  }
 ],
 "metadata": {
  "kernelspec": {
   "display_name": "virtenv-rl-course",
   "language": "python",
   "name": "python3"
  },
  "language_info": {
   "codemirror_mode": {
    "name": "ipython",
    "version": 3
   },
   "file_extension": ".py",
   "mimetype": "text/x-python",
   "name": "python",
   "nbconvert_exporter": "python",
   "pygments_lexer": "ipython3",
   "version": "3.11.11"
  }
 },
 "nbformat": 4,
 "nbformat_minor": 2
}
