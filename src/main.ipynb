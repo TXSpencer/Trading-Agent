{
 "cells": [
  {
   "cell_type": "code",
   "execution_count": 1,
   "metadata": {},
   "outputs": [],
   "source": [
    "import pandas as pd\n",
    "import numpy as np\n",
    "\n",
    "import plotly.express as px\n",
    "\n",
    "import sys\n",
    "sys.dont_write_bytecode = True"
   ]
  },
  {
   "cell_type": "code",
   "execution_count": 2,
   "metadata": {},
   "outputs": [],
   "source": [
    "data_path = '../data/TSLA_stock.csv'\n",
    "df = pd.read_csv(data_path)\n",
    "df = df.drop(columns=['Adj Close'])\n",
    "df['Date'] = pd.to_datetime(df['Date'])\n",
    "df.set_index('Date', inplace=True)"
   ]
  },
  {
   "cell_type": "code",
   "execution_count": 3,
   "metadata": {},
   "outputs": [
    {
     "data": {
      "text/html": [
       "<div>\n",
       "<style scoped>\n",
       "    .dataframe tbody tr th:only-of-type {\n",
       "        vertical-align: middle;\n",
       "    }\n",
       "\n",
       "    .dataframe tbody tr th {\n",
       "        vertical-align: top;\n",
       "    }\n",
       "\n",
       "    .dataframe thead th {\n",
       "        text-align: right;\n",
       "    }\n",
       "</style>\n",
       "<table border=\"1\" class=\"dataframe\">\n",
       "  <thead>\n",
       "    <tr style=\"text-align: right;\">\n",
       "      <th></th>\n",
       "      <th>Open</th>\n",
       "      <th>High</th>\n",
       "      <th>Low</th>\n",
       "      <th>Close</th>\n",
       "      <th>Volume</th>\n",
       "    </tr>\n",
       "    <tr>\n",
       "      <th>Date</th>\n",
       "      <th></th>\n",
       "      <th></th>\n",
       "      <th></th>\n",
       "      <th></th>\n",
       "      <th></th>\n",
       "    </tr>\n",
       "  </thead>\n",
       "  <tbody>\n",
       "    <tr>\n",
       "      <th>2010-06-29</th>\n",
       "      <td>3.800000</td>\n",
       "      <td>5.000000</td>\n",
       "      <td>3.508000</td>\n",
       "      <td>4.778000</td>\n",
       "      <td>93831500</td>\n",
       "    </tr>\n",
       "    <tr>\n",
       "      <th>2010-06-30</th>\n",
       "      <td>5.158000</td>\n",
       "      <td>6.084000</td>\n",
       "      <td>4.660000</td>\n",
       "      <td>4.766000</td>\n",
       "      <td>85935500</td>\n",
       "    </tr>\n",
       "    <tr>\n",
       "      <th>2010-07-01</th>\n",
       "      <td>5.000000</td>\n",
       "      <td>5.184000</td>\n",
       "      <td>4.054000</td>\n",
       "      <td>4.392000</td>\n",
       "      <td>41094000</td>\n",
       "    </tr>\n",
       "    <tr>\n",
       "      <th>2010-07-02</th>\n",
       "      <td>4.600000</td>\n",
       "      <td>4.620000</td>\n",
       "      <td>3.742000</td>\n",
       "      <td>3.840000</td>\n",
       "      <td>25699000</td>\n",
       "    </tr>\n",
       "    <tr>\n",
       "      <th>2010-07-06</th>\n",
       "      <td>4.000000</td>\n",
       "      <td>4.000000</td>\n",
       "      <td>3.166000</td>\n",
       "      <td>3.222000</td>\n",
       "      <td>34334500</td>\n",
       "    </tr>\n",
       "    <tr>\n",
       "      <th>...</th>\n",
       "      <td>...</td>\n",
       "      <td>...</td>\n",
       "      <td>...</td>\n",
       "      <td>...</td>\n",
       "      <td>...</td>\n",
       "    </tr>\n",
       "    <tr>\n",
       "      <th>2022-03-18</th>\n",
       "      <td>874.489990</td>\n",
       "      <td>907.849976</td>\n",
       "      <td>867.390015</td>\n",
       "      <td>905.390015</td>\n",
       "      <td>33408500</td>\n",
       "    </tr>\n",
       "    <tr>\n",
       "      <th>2022-03-21</th>\n",
       "      <td>914.979980</td>\n",
       "      <td>942.849976</td>\n",
       "      <td>907.090027</td>\n",
       "      <td>921.159973</td>\n",
       "      <td>27327200</td>\n",
       "    </tr>\n",
       "    <tr>\n",
       "      <th>2022-03-22</th>\n",
       "      <td>930.000000</td>\n",
       "      <td>997.859985</td>\n",
       "      <td>921.750000</td>\n",
       "      <td>993.979980</td>\n",
       "      <td>35289500</td>\n",
       "    </tr>\n",
       "    <tr>\n",
       "      <th>2022-03-23</th>\n",
       "      <td>979.940002</td>\n",
       "      <td>1040.699951</td>\n",
       "      <td>976.400024</td>\n",
       "      <td>999.109985</td>\n",
       "      <td>40225400</td>\n",
       "    </tr>\n",
       "    <tr>\n",
       "      <th>2022-03-24</th>\n",
       "      <td>1009.729980</td>\n",
       "      <td>1024.489990</td>\n",
       "      <td>988.799988</td>\n",
       "      <td>1013.919983</td>\n",
       "      <td>22901900</td>\n",
       "    </tr>\n",
       "  </tbody>\n",
       "</table>\n",
       "<p>2956 rows × 5 columns</p>\n",
       "</div>"
      ],
      "text/plain": [
       "                   Open         High         Low        Close    Volume\n",
       "Date                                                                   \n",
       "2010-06-29     3.800000     5.000000    3.508000     4.778000  93831500\n",
       "2010-06-30     5.158000     6.084000    4.660000     4.766000  85935500\n",
       "2010-07-01     5.000000     5.184000    4.054000     4.392000  41094000\n",
       "2010-07-02     4.600000     4.620000    3.742000     3.840000  25699000\n",
       "2010-07-06     4.000000     4.000000    3.166000     3.222000  34334500\n",
       "...                 ...          ...         ...          ...       ...\n",
       "2022-03-18   874.489990   907.849976  867.390015   905.390015  33408500\n",
       "2022-03-21   914.979980   942.849976  907.090027   921.159973  27327200\n",
       "2022-03-22   930.000000   997.859985  921.750000   993.979980  35289500\n",
       "2022-03-23   979.940002  1040.699951  976.400024   999.109985  40225400\n",
       "2022-03-24  1009.729980  1024.489990  988.799988  1013.919983  22901900\n",
       "\n",
       "[2956 rows x 5 columns]"
      ]
     },
     "metadata": {},
     "output_type": "display_data"
    }
   ],
   "source": [
    "display(df)"
   ]
  },
  {
   "cell_type": "code",
   "execution_count": 4,
   "metadata": {},
   "outputs": [],
   "source": [
    "from MultiArmedBanditTrader import MultiArmedBanditTrader\n",
    "from TradingAgent import TradingAgent\n",
    "\n",
    "from TradingEnvironment import TradingEnvironment\n",
    "from DeepTradingEnvironment import DeepTradingEnvironment"
   ]
  },
  {
   "cell_type": "markdown",
   "metadata": {},
   "source": [
    "##### **Regular Agent**"
   ]
  },
  {
   "cell_type": "code",
   "execution_count": 5,
   "metadata": {},
   "outputs": [],
   "source": [
    "trading_env = TradingEnvironment(df)\n",
    "agent = MultiArmedBanditTrader(epsilon=0.5)"
   ]
  },
  {
   "cell_type": "code",
   "execution_count": 6,
   "metadata": {},
   "outputs": [],
   "source": [
    "total_rewards = []\n",
    "\n",
    "for episode in range(100): # nb of simulation episodes\n",
    "\n",
    "    trading_env.current_step = 0\n",
    "    trading_env.balance = 10000\n",
    "    trading_env.shares = 0\n",
    "\n",
    "    agent.q_values = {action: 0.0 for action in agent.actions}\n",
    "    agent.action_counts = {action: 0 for action in agent.actions}\n",
    "\n",
    "    episode_reward = 0\n",
    "    done = False\n",
    "\n",
    "    while not done:\n",
    "        \n",
    "        action = agent.choose_action()\n",
    "        reward, done = trading_env.step(action)\n",
    "        agent.update_q_values(action, reward)\n",
    "        episode_reward += reward\n",
    "    \n",
    "    total_rewards.append(episode_reward)"
   ]
  },
  {
   "cell_type": "markdown",
   "metadata": {},
   "source": [
    "##### **Random Agent**"
   ]
  },
  {
   "cell_type": "code",
   "execution_count": 7,
   "metadata": {},
   "outputs": [],
   "source": [
    "trading_env = TradingEnvironment(df)\n",
    "random_agent = MultiArmedBanditTrader(epsilon=1.0)"
   ]
  },
  {
   "cell_type": "code",
   "execution_count": 8,
   "metadata": {},
   "outputs": [],
   "source": [
    "random_rewards = []\n",
    "\n",
    "for episode in range(100):\n",
    "   \n",
    "    trading_env.current_step = 0\n",
    "    trading_env.balance = 10000\n",
    "    trading_env.shares = 0\n",
    "    random_agent.q_values = {action: 0.0 for action in random_agent.actions}\n",
    "    random_agent.action_counts = {action: 0 for action in random_agent.actions}\n",
    "\n",
    "    episode_reward = 0\n",
    "    done = False\n",
    "\n",
    "    while not done:\n",
    "        action = random_agent.choose_action()\n",
    "        reward, done = trading_env.step(action)\n",
    "        random_agent.update_q_values(action, reward)\n",
    "        episode_reward += reward\n",
    "    \n",
    "    random_rewards.append(episode_reward)"
   ]
  },
  {
   "cell_type": "markdown",
   "metadata": {},
   "source": [
    "##### **DQN Agent** "
   ]
  },
  {
   "cell_type": "code",
   "execution_count": 9,
   "metadata": {},
   "outputs": [],
   "source": [
    "trading_env = DeepTradingEnvironment(df, window_size=128)"
   ]
  },
  {
   "cell_type": "code",
   "execution_count": 10,
   "metadata": {},
   "outputs": [
    {
     "name": "stdout",
     "output_type": "stream",
     "text": [
      "Episode 1/100, Reward: 1144171.36, Epsilon: 0.99\n",
      "Episode 2/100, Reward: 2029471.76, Epsilon: 0.98\n",
      "Episode 3/100, Reward: 1214191.98, Epsilon: 0.97\n",
      "Episode 4/100, Reward: 1295009.50, Epsilon: 0.96\n",
      "Episode 5/100, Reward: -57955.13, Epsilon: 0.95\n",
      "Episode 6/100, Reward: 3642859.59, Epsilon: 0.94\n",
      "Episode 7/100, Reward: 371641.39, Epsilon: 0.93\n",
      "Episode 8/100, Reward: 507274.75, Epsilon: 0.92\n",
      "Episode 9/100, Reward: 508280.22, Epsilon: 0.91\n",
      "Episode 10/100, Reward: 3127343.50, Epsilon: 0.90\n",
      "Episode 11/100, Reward: 1520570.49, Epsilon: 0.90\n",
      "Episode 12/100, Reward: 1372675.96, Epsilon: 0.89\n",
      "Episode 13/100, Reward: 588962.42, Epsilon: 0.88\n",
      "Episode 14/100, Reward: 412707.67, Epsilon: 0.87\n",
      "Episode 15/100, Reward: 1779239.80, Epsilon: 0.86\n",
      "Episode 16/100, Reward: 2964966.81, Epsilon: 0.85\n",
      "Episode 17/100, Reward: 4392293.03, Epsilon: 0.84\n",
      "Episode 18/100, Reward: 1730750.86, Epsilon: 0.83\n",
      "Episode 19/100, Reward: 320250.78, Epsilon: 0.83\n",
      "Episode 20/100, Reward: 917212.95, Epsilon: 0.82\n",
      "Episode 21/100, Reward: 2732977.95, Epsilon: 0.81\n",
      "Episode 22/100, Reward: 7765519.71, Epsilon: 0.80\n",
      "Episode 23/100, Reward: 909074.48, Epsilon: 0.79\n",
      "Episode 24/100, Reward: 415185.11, Epsilon: 0.79\n",
      "Episode 25/100, Reward: 1229352.76, Epsilon: 0.78\n",
      "Episode 26/100, Reward: 2483878.67, Epsilon: 0.77\n",
      "Episode 27/100, Reward: 1755775.84, Epsilon: 0.76\n",
      "Episode 28/100, Reward: 576605.78, Epsilon: 0.75\n",
      "Episode 29/100, Reward: 1130446.43, Epsilon: 0.75\n",
      "Episode 30/100, Reward: 417497.91, Epsilon: 0.74\n",
      "Episode 31/100, Reward: 29016.04, Epsilon: 0.73\n",
      "Episode 32/100, Reward: 121549.56, Epsilon: 0.72\n",
      "Episode 33/100, Reward: 154982.18, Epsilon: 0.72\n",
      "Episode 34/100, Reward: 1476891.65, Epsilon: 0.71\n",
      "Episode 35/100, Reward: 1672662.50, Epsilon: 0.70\n",
      "Episode 36/100, Reward: 639709.03, Epsilon: 0.70\n",
      "Episode 37/100, Reward: 959157.41, Epsilon: 0.69\n",
      "Episode 38/100, Reward: 1130102.57, Epsilon: 0.68\n",
      "Episode 39/100, Reward: 86083.48, Epsilon: 0.68\n",
      "Episode 40/100, Reward: 1845619.39, Epsilon: 0.67\n",
      "Episode 41/100, Reward: 17497412.61, Epsilon: 0.66\n",
      "Episode 42/100, Reward: 2907754.56, Epsilon: 0.66\n",
      "Episode 43/100, Reward: 4445278.37, Epsilon: 0.65\n",
      "Episode 44/100, Reward: 3295769.34, Epsilon: 0.64\n",
      "Episode 45/100, Reward: 15343330.40, Epsilon: 0.64\n",
      "Episode 46/100, Reward: 9998042.57, Epsilon: 0.63\n",
      "Episode 47/100, Reward: -42936.00, Epsilon: 0.62\n",
      "Episode 48/100, Reward: 622398.13, Epsilon: 0.62\n",
      "Episode 49/100, Reward: 1498476.17, Epsilon: 0.61\n",
      "Episode 50/100, Reward: 4233907.88, Epsilon: 0.61\n",
      "Episode 51/100, Reward: 12469137.85, Epsilon: 0.60\n",
      "Episode 52/100, Reward: 4842875.50, Epsilon: 0.59\n",
      "Episode 53/100, Reward: 6951702.67, Epsilon: 0.59\n",
      "Episode 54/100, Reward: 412506.63, Epsilon: 0.58\n",
      "Episode 55/100, Reward: 263277.64, Epsilon: 0.58\n",
      "Episode 56/100, Reward: 335071.90, Epsilon: 0.57\n",
      "Episode 57/100, Reward: 1296631.28, Epsilon: 0.56\n",
      "Episode 58/100, Reward: 455701.33, Epsilon: 0.56\n",
      "Episode 59/100, Reward: 381375.62, Epsilon: 0.55\n",
      "Episode 60/100, Reward: 1445998.61, Epsilon: 0.55\n",
      "Episode 61/100, Reward: 461541.63, Epsilon: 0.54\n",
      "Episode 62/100, Reward: 593971.54, Epsilon: 0.54\n",
      "Episode 63/100, Reward: 143470.61, Epsilon: 0.53\n",
      "Episode 64/100, Reward: 3033531.05, Epsilon: 0.53\n",
      "Episode 65/100, Reward: 10436002.76, Epsilon: 0.52\n",
      "Episode 66/100, Reward: 12386672.64, Epsilon: 0.52\n",
      "Episode 67/100, Reward: 1349333.28, Epsilon: 0.51\n",
      "Episode 68/100, Reward: 329268.21, Epsilon: 0.50\n",
      "Episode 69/100, Reward: 451400.62, Epsilon: 0.50\n",
      "Episode 70/100, Reward: 1156566.31, Epsilon: 0.49\n",
      "Episode 71/100, Reward: 2690817.98, Epsilon: 0.49\n",
      "Episode 72/100, Reward: 131247.70, Epsilon: 0.48\n",
      "Episode 73/100, Reward: 2028212.65, Epsilon: 0.48\n",
      "Episode 74/100, Reward: 620301.74, Epsilon: 0.48\n",
      "Episode 75/100, Reward: 1617325.91, Epsilon: 0.47\n",
      "Episode 76/100, Reward: 956260.88, Epsilon: 0.47\n",
      "Episode 77/100, Reward: 628707.29, Epsilon: 0.46\n",
      "Episode 78/100, Reward: 651733.59, Epsilon: 0.46\n",
      "Episode 79/100, Reward: -9441.69, Epsilon: 0.45\n",
      "Episode 80/100, Reward: 5187854.83, Epsilon: 0.45\n",
      "Episode 81/100, Reward: 3282560.87, Epsilon: 0.44\n",
      "Episode 82/100, Reward: 5682687.14, Epsilon: 0.44\n",
      "Episode 83/100, Reward: 20422846.70, Epsilon: 0.43\n",
      "Episode 84/100, Reward: 3964519.37, Epsilon: 0.43\n",
      "Episode 85/100, Reward: 1875681.31, Epsilon: 0.43\n",
      "Episode 86/100, Reward: 3425420.64, Epsilon: 0.42\n",
      "Episode 87/100, Reward: 1991282.56, Epsilon: 0.42\n",
      "Episode 88/100, Reward: 1681568.80, Epsilon: 0.41\n",
      "Episode 89/100, Reward: 3938742.18, Epsilon: 0.41\n",
      "Episode 90/100, Reward: 4755489.28, Epsilon: 0.40\n",
      "Episode 91/100, Reward: 5314142.29, Epsilon: 0.40\n",
      "Episode 92/100, Reward: 851740.78, Epsilon: 0.40\n",
      "Episode 93/100, Reward: 7811216.94, Epsilon: 0.39\n",
      "Episode 94/100, Reward: 735548.83, Epsilon: 0.39\n",
      "Episode 95/100, Reward: 971234.25, Epsilon: 0.38\n",
      "Episode 96/100, Reward: 4610315.05, Epsilon: 0.38\n",
      "Episode 97/100, Reward: 132497.77, Epsilon: 0.38\n",
      "Episode 98/100, Reward: 8355531.64, Epsilon: 0.37\n",
      "Episode 99/100, Reward: 13146108.43, Epsilon: 0.37\n",
      "Episode 100/100, Reward: 4975562.01, Epsilon: 0.37\n"
     ]
    }
   ],
   "source": [
    "state_size = trading_env.window_size\n",
    "action_size = 3 # Buy, Sell, Hold\n",
    "agent = TradingAgent(state_size, action_size, df.shape[1])\n",
    "\n",
    "num_episodes = 100\n",
    "dqn_rewards = []\n",
    "\n",
    "for episode in range(num_episodes):\n",
    "    \n",
    "    state = trading_env.reset() # return a window (slice) of the dataframe\n",
    "    episode_reward = 0\n",
    "\n",
    "    while not trading_env.done:\n",
    "            \n",
    "        action = agent.choose_action(state) # Select the action\n",
    "        next_state, reward, done = trading_env.step(action) # Execute the action\n",
    "        agent.remember(state, action, reward, next_state, done) # Store the experience\n",
    "        state = next_state\n",
    "        episode_reward += reward\n",
    "\n",
    "    dqn_rewards.append(episode_reward)\n",
    "    \n",
    "    agent.replay() # update model's weights\n",
    "    print(f'Episode {episode+1}/{num_episodes}, Reward: {episode_reward:.2f}, Epsilon: {agent.epsilon:.2f}')"
   ]
  },
  {
   "cell_type": "markdown",
   "metadata": {},
   "source": [
    "##### **Results**"
   ]
  },
  {
   "cell_type": "code",
   "execution_count": 11,
   "metadata": {},
   "outputs": [
    {
     "data": {
      "application/vnd.plotly.v1+json": {
       "config": {
        "plotlyServerURL": "https://plot.ly"
       },
       "data": [
        {
         "hovertemplate": "variable=Regular Agent<br>Runs=%{x}<br>Total Rewards=%{y}<extra></extra>",
         "legendgroup": "Regular Agent",
         "line": {
          "color": "#636efa",
          "dash": "solid"
         },
         "marker": {
          "symbol": "circle"
         },
         "mode": "lines",
         "name": "Regular Agent",
         "orientation": "v",
         "showlegend": true,
         "type": "scatter",
         "x": {
          "bdata": "AAECAwQFBgcICQoLDA0ODxAREhMUFRYXGBkaGxwdHh8gISIjJCUmJygpKissLS4vMDEyMzQ1Njc4OTo7PD0+P0BBQkNERUZHSElKS0xNTk9QUVJTVFVWV1hZWltcXV5fYGFiYw==",
          "dtype": "i1"
         },
         "xaxis": "x",
         "y": {
          "bdata": "ij1kMjTeEkFQmpag7qcMQWPoOL1E5fRAwt6cYEoX30AMdPKjjx35QFlfqf74SQ1BfCdQ5dxu6UBYcPu9jv0JQQy/bcFSMvBA7jypOykt+EAfEBMvqxXGQJCCzOUVKOlARmin6pyd70CZGR7FEiUNQdZYmKzcLPVA1iwOJ+tj70C7E78n6UIBQdKjgtUyivtA4oxOf1IF4EDvkd9hMCbnQNKPPNNlntlA9iheNPgY/EAjbF+BV9EJQdR3BMXfMv5AmKge614x0EBhNeAfdD/+QE7BFxU+b/1AbSjhAIQKJUGWkpmmXLLPQBi6ELCPCNlA0nmZa2ubBEEB9E4BfhgDQd5+vpK2X/FAQicgM4YGDUFtaD2J2lT0QEzJAyMzTgBBHhh4FGxL2UAFOid3hgrzQLw+8YjjcgRBtpOxPetp4UDCvYLUDC8FQcvMGrNg0QFBu4Nhv4lc9kAAQKroy+beQPoH4FQNWBBBxCavj0s040C5IWzGCp0AQfzd0EL4yQJB6WElMh/9+kD9oNWCSHXkQKdSg8QeLwtBgoerk+lO8UAbj9RMXQsOQfAo7fRj4AFBm3vvzZj+6kAr9d7stN7tQOpmNJBuqQFBAjlADcvcDEGdN6rrJ7YSQYVROFn6ZfNAEKXI6lSd4UAszEngyjUEQbmbhzby4NNAIzwhDPdyAUHTNSpWh3voQMYrFjNqNABBeH0DY/FwFEHcbSJZYlnYQLvaWDMmcxZB9J3Wi6VVCkEcfgA8h2beQJ9e1JRjbtVAcb4cvwkd40Bm+7wQAH8FQcF5lTtygAZBq6eRfVUq+kCSBOlBtvTdQBEBDYqexAxBShJ7Ya6l7UBLEcMQC2jkQO7dstG4lNlAWgXogidxEEHbLcPnrdLgQAQ/c6p0xvZAXd00v4v7/EBsLTaIhwAGQchHXS4kPeJAaPW3tYU750CKmDFKP2fZQPdDxBY9NuVA5pORuTns4UARsoAmiKXzQPy12cl+LOtA7J0tDITb8UBxEkXK+xX9QPV8axdACxBBIXHtxuoP7EDArhDzCRkLQe4yWZbzDs9ADUWLLikABUE=",
          "dtype": "f8"
         },
         "yaxis": "y"
        },
        {
         "hovertemplate": "variable=Random Agent<br>Runs=%{x}<br>Total Rewards=%{y}<extra></extra>",
         "legendgroup": "Random Agent",
         "line": {
          "color": "#EF553B",
          "dash": "solid"
         },
         "marker": {
          "symbol": "circle"
         },
         "mode": "lines",
         "name": "Random Agent",
         "orientation": "v",
         "showlegend": true,
         "type": "scatter",
         "x": {
          "bdata": "AAECAwQFBgcICQoLDA0ODxAREhMUFRYXGBkaGxwdHh8gISIjJCUmJygpKissLS4vMDEyMzQ1Njc4OTo7PD0+P0BBQkNERUZHSElKS0xNTk9QUVJTVFVWV1hZWltcXV5fYGFiYw==",
          "dtype": "i1"
         },
         "xaxis": "x",
         "y": {
          "bdata": "Vf9/zF7E+kAQHg5porAgQbQZ3pYwNfRAAseAKsff/EBlBhSGCHg8Qcxl5a9dfBxB7Xcjb0ZAAkHICZUPLZjlQFguyD3BeeZAloyEkamGBUFYG2fY9o/XQGrxSsmDXfRAVd0xfgtZ8ECUz9ok1kH2QHkBLkAQRRhB2kZ3krlwF0FgvXwPESoFQa/uvm9RE8BAXcLNLnOJA0F8PV2DDaMBQe9fn8VRExFBQXZlYscX+EDRCPa65TTrQCNGFURdkeFAanHXAPDW60BR1/a01psUQethP8Kem+pARmpLtD8F3kAotltvbS0DQb37KLAC5Q9BKusaP14WJEG9RL/gtBPkQGYfUgcDmRRBpAFFPdNHIEFHIUGZWK0RQSAFM7nxZBBBwB5wRQg4FkFmi7B8m6i0QFnO1VlZnNZAchfLQC0l60Bs0LHUPQ/ZQOZ5GZNxyOhAbuAxivHJ9UDfsWh4IrsXQdFRaKGT9eRAgvnCSGQWCEFzn9StQknoQC2aa2r1JPpA4jkd7EkD/kCrbDBp03cDQXm9gcZbVOVAZLFquB2qH0HPLamx7s0XQT7aYM1I5vJAdplmiBGRGkFQ4IEM26/vQEaFOv3n/s9AY32tEeVDDkHIUAtC4eIAQe5u46tL0yRBl+rmJFplE0F/4FcWmngKQQF6mNd7ux9BqkvOI9FmGkF1VTVLwngEQQbzyU6W2vlA8Bj0F+oJ20AR7tUEmbD4QPA9xnzVFQhBWYoHpee49UAVhV2NrOg3QUCv3h3b5fJAcht7n9YeHkH3s2h7+1UbQcbiKSj4CtxAURcK9loR7EBVVMtVQt3jQDDjCZxpcCFBgFBrUzyr7EAgFBi/5JflQLc77QNnr/9AetCPv7uuIEFT1jXNsLjtQC9/tzPzfuZA6FRqNejQD0HVtszRVLkPQSPDd1hvSQBBfbiIP9K4AEH0l8nkLUoGQeYPOElNiyVBeGgkHJFQ60ADYCyXI1fzQG7Zm7GefwFBDID9CdboB0HGaLKMJtwMQYCdh0H0Ue9A44eeHNBQBUEgqQTN0mh+QCKvHlP7H+tAG4ah7fTBD0E=",
          "dtype": "f8"
         },
         "yaxis": "y"
        },
        {
         "hovertemplate": "variable=DQN Agent<br>Runs=%{x}<br>Total Rewards=%{y}<extra></extra>",
         "legendgroup": "DQN Agent",
         "line": {
          "color": "#00cc96",
          "dash": "solid"
         },
         "marker": {
          "symbol": "circle"
         },
         "mode": "lines",
         "name": "DQN Agent",
         "orientation": "v",
         "showlegend": true,
         "type": "scatter",
         "x": {
          "bdata": "AAECAwQFBgcICQoLDA0ODxAREhMUFRYXGBkaGxwdHh8gISIjJCUmJygpKissLS4vMDEyMzQ1Njc4OTo7PD0+P0BBQkNERUZHSElKS0xNTk9QUVJTVFVWV1hZWltcXV5fYGFiYw==",
          "dtype": "i1"
         },
         "xaxis": "x",
         "y": {
          "bdata": "yFaXW2t1MUExh6TCn/c+QSkGD/vvhjJBW4WUf6HCM0Eb1jZFZEzswFsm/Mr1yktBS78okeWuFkHzztr9KvYeQfo7o93gBR9BXAJiwBfcR0EpTUp9ujM3Qa6e6PYD8jRBStr/2ET5IUFVI4KxjjAZQSB4tcwnJjtBksFRaPOeRkFfA+lBWcFQQR9wXd2+aDpBSE0tG+uLE0GQcTfouf0rQRsqxvnY2URBF4qt7YOfXUHAMO72JL4rQcMjY3VEVxlBHvz9wijCMkHOsidVU/NCQfhLi9Z/yjpBzDRFkLuYIUFCz2Ztzj8xQR7ikahnexlBH6SMuAJW3EBSfSD52Kz9QI2lEGgx6wJBRc7CphuJNkE9ldN+1oU5QVxgVhC6hSNBVUGa0WpFLUH0n/yRdj4xQVSdurI3BPVAZZKRY3MpPEFlRr9J1K9wQay0xUc1L0ZBTb7Zlxf1UEHdc9KrDCVJQX6qw0zcQ21Bx9YzUtsRY0GW5UAPAPfkwEOil0F8/iJBVUXxKmzdNkHhnXz4rCZQQa2eWjtyyGdBnGUW4F55UkEmLzKrxYRaQdORzoBqLRlBCfcDjrYREEGoHMyWf3MUQTnPn0b3yDNBz46NUFXQG0HmL/R4/kYXQZJ++5puEDZB1JsYgpYrHEFfKCcSZyAiQTjFVeV0gwFBlrwBht0kR0G98llYtOdjQWrlXhQuoGdBgVMfSNWWNEHItYXX0BgUQSPpDHwijRtBAARzUNalMUGNuAD+gIdEQesDkJp9BQBBhUVhp7TyPkG3OgB6G+4iQfHNb+itrThBoRA6wMkuLUGLnfCSxi8jQRfeczCr4yNB6QqbAdhwwsDuBPu0Q8pTQcjf9m5AC0lB3IEByX+tVUH12UHrC3pzQY5SCa8zP05BVPIjTuGePEF1MQZSRiJKQWN7LZByYj5BO5hNzKCoOUE+cjIX2wxOQQB56FEIJFJBjzNNkpdFVEH/klSOOf4pQfZ9ODwkzF1BBTaup3lyJkEjhbKAxKMtQcAEbsNCllFBhPNUJ44sAEHtQNbost9fQbMWn43/EmlBxAxUgPL6UkE=",
          "dtype": "f8"
         },
         "yaxis": "y"
        }
       ],
       "layout": {
        "legend": {
         "title": {
          "text": "variable"
         },
         "tracegroupgap": 0
        },
        "template": {
         "data": {
          "bar": [
           {
            "error_x": {
             "color": "#2a3f5f"
            },
            "error_y": {
             "color": "#2a3f5f"
            },
            "marker": {
             "line": {
              "color": "#E5ECF6",
              "width": 0.5
             },
             "pattern": {
              "fillmode": "overlay",
              "size": 10,
              "solidity": 0.2
             }
            },
            "type": "bar"
           }
          ],
          "barpolar": [
           {
            "marker": {
             "line": {
              "color": "#E5ECF6",
              "width": 0.5
             },
             "pattern": {
              "fillmode": "overlay",
              "size": 10,
              "solidity": 0.2
             }
            },
            "type": "barpolar"
           }
          ],
          "carpet": [
           {
            "aaxis": {
             "endlinecolor": "#2a3f5f",
             "gridcolor": "white",
             "linecolor": "white",
             "minorgridcolor": "white",
             "startlinecolor": "#2a3f5f"
            },
            "baxis": {
             "endlinecolor": "#2a3f5f",
             "gridcolor": "white",
             "linecolor": "white",
             "minorgridcolor": "white",
             "startlinecolor": "#2a3f5f"
            },
            "type": "carpet"
           }
          ],
          "choropleth": [
           {
            "colorbar": {
             "outlinewidth": 0,
             "ticks": ""
            },
            "type": "choropleth"
           }
          ],
          "contour": [
           {
            "colorbar": {
             "outlinewidth": 0,
             "ticks": ""
            },
            "colorscale": [
             [
              0,
              "#0d0887"
             ],
             [
              0.1111111111111111,
              "#46039f"
             ],
             [
              0.2222222222222222,
              "#7201a8"
             ],
             [
              0.3333333333333333,
              "#9c179e"
             ],
             [
              0.4444444444444444,
              "#bd3786"
             ],
             [
              0.5555555555555556,
              "#d8576b"
             ],
             [
              0.6666666666666666,
              "#ed7953"
             ],
             [
              0.7777777777777778,
              "#fb9f3a"
             ],
             [
              0.8888888888888888,
              "#fdca26"
             ],
             [
              1,
              "#f0f921"
             ]
            ],
            "type": "contour"
           }
          ],
          "contourcarpet": [
           {
            "colorbar": {
             "outlinewidth": 0,
             "ticks": ""
            },
            "type": "contourcarpet"
           }
          ],
          "heatmap": [
           {
            "colorbar": {
             "outlinewidth": 0,
             "ticks": ""
            },
            "colorscale": [
             [
              0,
              "#0d0887"
             ],
             [
              0.1111111111111111,
              "#46039f"
             ],
             [
              0.2222222222222222,
              "#7201a8"
             ],
             [
              0.3333333333333333,
              "#9c179e"
             ],
             [
              0.4444444444444444,
              "#bd3786"
             ],
             [
              0.5555555555555556,
              "#d8576b"
             ],
             [
              0.6666666666666666,
              "#ed7953"
             ],
             [
              0.7777777777777778,
              "#fb9f3a"
             ],
             [
              0.8888888888888888,
              "#fdca26"
             ],
             [
              1,
              "#f0f921"
             ]
            ],
            "type": "heatmap"
           }
          ],
          "histogram": [
           {
            "marker": {
             "pattern": {
              "fillmode": "overlay",
              "size": 10,
              "solidity": 0.2
             }
            },
            "type": "histogram"
           }
          ],
          "histogram2d": [
           {
            "colorbar": {
             "outlinewidth": 0,
             "ticks": ""
            },
            "colorscale": [
             [
              0,
              "#0d0887"
             ],
             [
              0.1111111111111111,
              "#46039f"
             ],
             [
              0.2222222222222222,
              "#7201a8"
             ],
             [
              0.3333333333333333,
              "#9c179e"
             ],
             [
              0.4444444444444444,
              "#bd3786"
             ],
             [
              0.5555555555555556,
              "#d8576b"
             ],
             [
              0.6666666666666666,
              "#ed7953"
             ],
             [
              0.7777777777777778,
              "#fb9f3a"
             ],
             [
              0.8888888888888888,
              "#fdca26"
             ],
             [
              1,
              "#f0f921"
             ]
            ],
            "type": "histogram2d"
           }
          ],
          "histogram2dcontour": [
           {
            "colorbar": {
             "outlinewidth": 0,
             "ticks": ""
            },
            "colorscale": [
             [
              0,
              "#0d0887"
             ],
             [
              0.1111111111111111,
              "#46039f"
             ],
             [
              0.2222222222222222,
              "#7201a8"
             ],
             [
              0.3333333333333333,
              "#9c179e"
             ],
             [
              0.4444444444444444,
              "#bd3786"
             ],
             [
              0.5555555555555556,
              "#d8576b"
             ],
             [
              0.6666666666666666,
              "#ed7953"
             ],
             [
              0.7777777777777778,
              "#fb9f3a"
             ],
             [
              0.8888888888888888,
              "#fdca26"
             ],
             [
              1,
              "#f0f921"
             ]
            ],
            "type": "histogram2dcontour"
           }
          ],
          "mesh3d": [
           {
            "colorbar": {
             "outlinewidth": 0,
             "ticks": ""
            },
            "type": "mesh3d"
           }
          ],
          "parcoords": [
           {
            "line": {
             "colorbar": {
              "outlinewidth": 0,
              "ticks": ""
             }
            },
            "type": "parcoords"
           }
          ],
          "pie": [
           {
            "automargin": true,
            "type": "pie"
           }
          ],
          "scatter": [
           {
            "fillpattern": {
             "fillmode": "overlay",
             "size": 10,
             "solidity": 0.2
            },
            "type": "scatter"
           }
          ],
          "scatter3d": [
           {
            "line": {
             "colorbar": {
              "outlinewidth": 0,
              "ticks": ""
             }
            },
            "marker": {
             "colorbar": {
              "outlinewidth": 0,
              "ticks": ""
             }
            },
            "type": "scatter3d"
           }
          ],
          "scattercarpet": [
           {
            "marker": {
             "colorbar": {
              "outlinewidth": 0,
              "ticks": ""
             }
            },
            "type": "scattercarpet"
           }
          ],
          "scattergeo": [
           {
            "marker": {
             "colorbar": {
              "outlinewidth": 0,
              "ticks": ""
             }
            },
            "type": "scattergeo"
           }
          ],
          "scattergl": [
           {
            "marker": {
             "colorbar": {
              "outlinewidth": 0,
              "ticks": ""
             }
            },
            "type": "scattergl"
           }
          ],
          "scattermap": [
           {
            "marker": {
             "colorbar": {
              "outlinewidth": 0,
              "ticks": ""
             }
            },
            "type": "scattermap"
           }
          ],
          "scattermapbox": [
           {
            "marker": {
             "colorbar": {
              "outlinewidth": 0,
              "ticks": ""
             }
            },
            "type": "scattermapbox"
           }
          ],
          "scatterpolar": [
           {
            "marker": {
             "colorbar": {
              "outlinewidth": 0,
              "ticks": ""
             }
            },
            "type": "scatterpolar"
           }
          ],
          "scatterpolargl": [
           {
            "marker": {
             "colorbar": {
              "outlinewidth": 0,
              "ticks": ""
             }
            },
            "type": "scatterpolargl"
           }
          ],
          "scatterternary": [
           {
            "marker": {
             "colorbar": {
              "outlinewidth": 0,
              "ticks": ""
             }
            },
            "type": "scatterternary"
           }
          ],
          "surface": [
           {
            "colorbar": {
             "outlinewidth": 0,
             "ticks": ""
            },
            "colorscale": [
             [
              0,
              "#0d0887"
             ],
             [
              0.1111111111111111,
              "#46039f"
             ],
             [
              0.2222222222222222,
              "#7201a8"
             ],
             [
              0.3333333333333333,
              "#9c179e"
             ],
             [
              0.4444444444444444,
              "#bd3786"
             ],
             [
              0.5555555555555556,
              "#d8576b"
             ],
             [
              0.6666666666666666,
              "#ed7953"
             ],
             [
              0.7777777777777778,
              "#fb9f3a"
             ],
             [
              0.8888888888888888,
              "#fdca26"
             ],
             [
              1,
              "#f0f921"
             ]
            ],
            "type": "surface"
           }
          ],
          "table": [
           {
            "cells": {
             "fill": {
              "color": "#EBF0F8"
             },
             "line": {
              "color": "white"
             }
            },
            "header": {
             "fill": {
              "color": "#C8D4E3"
             },
             "line": {
              "color": "white"
             }
            },
            "type": "table"
           }
          ]
         },
         "layout": {
          "annotationdefaults": {
           "arrowcolor": "#2a3f5f",
           "arrowhead": 0,
           "arrowwidth": 1
          },
          "autotypenumbers": "strict",
          "coloraxis": {
           "colorbar": {
            "outlinewidth": 0,
            "ticks": ""
           }
          },
          "colorscale": {
           "diverging": [
            [
             0,
             "#8e0152"
            ],
            [
             0.1,
             "#c51b7d"
            ],
            [
             0.2,
             "#de77ae"
            ],
            [
             0.3,
             "#f1b6da"
            ],
            [
             0.4,
             "#fde0ef"
            ],
            [
             0.5,
             "#f7f7f7"
            ],
            [
             0.6,
             "#e6f5d0"
            ],
            [
             0.7,
             "#b8e186"
            ],
            [
             0.8,
             "#7fbc41"
            ],
            [
             0.9,
             "#4d9221"
            ],
            [
             1,
             "#276419"
            ]
           ],
           "sequential": [
            [
             0,
             "#0d0887"
            ],
            [
             0.1111111111111111,
             "#46039f"
            ],
            [
             0.2222222222222222,
             "#7201a8"
            ],
            [
             0.3333333333333333,
             "#9c179e"
            ],
            [
             0.4444444444444444,
             "#bd3786"
            ],
            [
             0.5555555555555556,
             "#d8576b"
            ],
            [
             0.6666666666666666,
             "#ed7953"
            ],
            [
             0.7777777777777778,
             "#fb9f3a"
            ],
            [
             0.8888888888888888,
             "#fdca26"
            ],
            [
             1,
             "#f0f921"
            ]
           ],
           "sequentialminus": [
            [
             0,
             "#0d0887"
            ],
            [
             0.1111111111111111,
             "#46039f"
            ],
            [
             0.2222222222222222,
             "#7201a8"
            ],
            [
             0.3333333333333333,
             "#9c179e"
            ],
            [
             0.4444444444444444,
             "#bd3786"
            ],
            [
             0.5555555555555556,
             "#d8576b"
            ],
            [
             0.6666666666666666,
             "#ed7953"
            ],
            [
             0.7777777777777778,
             "#fb9f3a"
            ],
            [
             0.8888888888888888,
             "#fdca26"
            ],
            [
             1,
             "#f0f921"
            ]
           ]
          },
          "colorway": [
           "#636efa",
           "#EF553B",
           "#00cc96",
           "#ab63fa",
           "#FFA15A",
           "#19d3f3",
           "#FF6692",
           "#B6E880",
           "#FF97FF",
           "#FECB52"
          ],
          "font": {
           "color": "#2a3f5f"
          },
          "geo": {
           "bgcolor": "white",
           "lakecolor": "white",
           "landcolor": "#E5ECF6",
           "showlakes": true,
           "showland": true,
           "subunitcolor": "white"
          },
          "hoverlabel": {
           "align": "left"
          },
          "hovermode": "closest",
          "mapbox": {
           "style": "light"
          },
          "paper_bgcolor": "white",
          "plot_bgcolor": "#E5ECF6",
          "polar": {
           "angularaxis": {
            "gridcolor": "white",
            "linecolor": "white",
            "ticks": ""
           },
           "bgcolor": "#E5ECF6",
           "radialaxis": {
            "gridcolor": "white",
            "linecolor": "white",
            "ticks": ""
           }
          },
          "scene": {
           "xaxis": {
            "backgroundcolor": "#E5ECF6",
            "gridcolor": "white",
            "gridwidth": 2,
            "linecolor": "white",
            "showbackground": true,
            "ticks": "",
            "zerolinecolor": "white"
           },
           "yaxis": {
            "backgroundcolor": "#E5ECF6",
            "gridcolor": "white",
            "gridwidth": 2,
            "linecolor": "white",
            "showbackground": true,
            "ticks": "",
            "zerolinecolor": "white"
           },
           "zaxis": {
            "backgroundcolor": "#E5ECF6",
            "gridcolor": "white",
            "gridwidth": 2,
            "linecolor": "white",
            "showbackground": true,
            "ticks": "",
            "zerolinecolor": "white"
           }
          },
          "shapedefaults": {
           "line": {
            "color": "#2a3f5f"
           }
          },
          "ternary": {
           "aaxis": {
            "gridcolor": "white",
            "linecolor": "white",
            "ticks": ""
           },
           "baxis": {
            "gridcolor": "white",
            "linecolor": "white",
            "ticks": ""
           },
           "bgcolor": "#E5ECF6",
           "caxis": {
            "gridcolor": "white",
            "linecolor": "white",
            "ticks": ""
           }
          },
          "title": {
           "x": 0.05
          },
          "xaxis": {
           "automargin": true,
           "gridcolor": "white",
           "linecolor": "white",
           "ticks": "",
           "title": {
            "standoff": 15
           },
           "zerolinecolor": "white",
           "zerolinewidth": 2
          },
          "yaxis": {
           "automargin": true,
           "gridcolor": "white",
           "linecolor": "white",
           "ticks": "",
           "title": {
            "standoff": 15
           },
           "zerolinecolor": "white",
           "zerolinewidth": 2
          }
         }
        },
        "title": {
         "text": "Trading performances among some agents"
        },
        "xaxis": {
         "anchor": "y",
         "domain": [
          0,
          1
         ],
         "title": {
          "text": "Runs"
         }
        },
        "yaxis": {
         "anchor": "x",
         "domain": [
          0,
          1
         ],
         "title": {
          "text": "Total Rewards"
         }
        }
       }
      }
     },
     "metadata": {},
     "output_type": "display_data"
    }
   ],
   "source": [
    "data = pd.DataFrame({'Episode': range(len(total_rewards)), \n",
    "                     'Regular Agent': total_rewards,\n",
    "                     'Random Agent': random_rewards,\n",
    "                     'DQN Agent': dqn_rewards\n",
    "                     })\n",
    "\n",
    "fig = px.line(data, x='Episode', y=['Regular Agent', 'Random Agent', 'DQN Agent'], \n",
    "              title='Trading performances among some agents', \n",
    "              labels={'Episode':'Runs', 'value':'Total Rewards', 'Total Reward': 'Regular Agent'})\n",
    "\n",
    "fig.show()"
   ]
  },
  {
   "cell_type": "code",
   "execution_count": 12,
   "metadata": {},
   "outputs": [
    {
     "name": "stdout",
     "output_type": "stream",
     "text": [
      "Average reward per season for Regular Agent 120672.68\n",
      "Average reward per season for Random Agent 222250.62\n",
      "Average reward per season for DQN Agent 2887371.98\n"
     ]
    }
   ],
   "source": [
    "print(f'Average reward per season for Regular Agent {np.mean(total_rewards).item():.2f}')\n",
    "print(f'Average reward per season for Random Agent {np.mean(random_rewards).item():.2f}')\n",
    "print(f'Average reward per season for DQN Agent {np.mean(dqn_rewards).item():.2f}')"
   ]
  }
 ],
 "metadata": {
  "kernelspec": {
   "display_name": ".venv",
   "language": "python",
   "name": "python3"
  },
  "language_info": {
   "codemirror_mode": {
    "name": "ipython",
    "version": 3
   },
   "file_extension": ".py",
   "mimetype": "text/x-python",
   "name": "python",
   "nbconvert_exporter": "python",
   "pygments_lexer": "ipython3",
   "version": "3.9.13"
  }
 },
 "nbformat": 4,
 "nbformat_minor": 2
}
