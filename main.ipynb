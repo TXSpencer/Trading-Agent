{
 "cells": [
  {
   "cell_type": "code",
   "execution_count": 1,
   "metadata": {},
   "outputs": [],
   "source": [
    "import pandas as pd\n",
    "import numpy as np\n",
    "\n",
    "import plotly.express as px\n",
    "\n",
    "import sys\n",
    "sys.dont_write_bytecode = True"
   ]
  },
  {
   "cell_type": "code",
   "execution_count": 2,
   "metadata": {},
   "outputs": [],
   "source": [
    "data_path = '../data/TSLA_stock.csv'\n",
    "df = pd.read_csv(data_path)\n",
    "df = df.drop(columns=['Adj Close'])\n",
    "df['Date'] = pd.to_datetime(df['Date'])\n",
    "df.set_index('Date', inplace=True)"
   ]
  },
  {
   "cell_type": "code",
   "execution_count": 3,
   "metadata": {},
   "outputs": [
    {
     "data": {
      "text/html": [
       "<div>\n",
       "<style scoped>\n",
       "    .dataframe tbody tr th:only-of-type {\n",
       "        vertical-align: middle;\n",
       "    }\n",
       "\n",
       "    .dataframe tbody tr th {\n",
       "        vertical-align: top;\n",
       "    }\n",
       "\n",
       "    .dataframe thead th {\n",
       "        text-align: right;\n",
       "    }\n",
       "</style>\n",
       "<table border=\"1\" class=\"dataframe\">\n",
       "  <thead>\n",
       "    <tr style=\"text-align: right;\">\n",
       "      <th></th>\n",
       "      <th>Open</th>\n",
       "      <th>High</th>\n",
       "      <th>Low</th>\n",
       "      <th>Close</th>\n",
       "      <th>Volume</th>\n",
       "    </tr>\n",
       "    <tr>\n",
       "      <th>Date</th>\n",
       "      <th></th>\n",
       "      <th></th>\n",
       "      <th></th>\n",
       "      <th></th>\n",
       "      <th></th>\n",
       "    </tr>\n",
       "  </thead>\n",
       "  <tbody>\n",
       "    <tr>\n",
       "      <th>2010-06-29</th>\n",
       "      <td>3.800000</td>\n",
       "      <td>5.000000</td>\n",
       "      <td>3.508000</td>\n",
       "      <td>4.778000</td>\n",
       "      <td>93831500</td>\n",
       "    </tr>\n",
       "    <tr>\n",
       "      <th>2010-06-30</th>\n",
       "      <td>5.158000</td>\n",
       "      <td>6.084000</td>\n",
       "      <td>4.660000</td>\n",
       "      <td>4.766000</td>\n",
       "      <td>85935500</td>\n",
       "    </tr>\n",
       "    <tr>\n",
       "      <th>2010-07-01</th>\n",
       "      <td>5.000000</td>\n",
       "      <td>5.184000</td>\n",
       "      <td>4.054000</td>\n",
       "      <td>4.392000</td>\n",
       "      <td>41094000</td>\n",
       "    </tr>\n",
       "    <tr>\n",
       "      <th>2010-07-02</th>\n",
       "      <td>4.600000</td>\n",
       "      <td>4.620000</td>\n",
       "      <td>3.742000</td>\n",
       "      <td>3.840000</td>\n",
       "      <td>25699000</td>\n",
       "    </tr>\n",
       "    <tr>\n",
       "      <th>2010-07-06</th>\n",
       "      <td>4.000000</td>\n",
       "      <td>4.000000</td>\n",
       "      <td>3.166000</td>\n",
       "      <td>3.222000</td>\n",
       "      <td>34334500</td>\n",
       "    </tr>\n",
       "    <tr>\n",
       "      <th>...</th>\n",
       "      <td>...</td>\n",
       "      <td>...</td>\n",
       "      <td>...</td>\n",
       "      <td>...</td>\n",
       "      <td>...</td>\n",
       "    </tr>\n",
       "    <tr>\n",
       "      <th>2022-03-18</th>\n",
       "      <td>874.489990</td>\n",
       "      <td>907.849976</td>\n",
       "      <td>867.390015</td>\n",
       "      <td>905.390015</td>\n",
       "      <td>33408500</td>\n",
       "    </tr>\n",
       "    <tr>\n",
       "      <th>2022-03-21</th>\n",
       "      <td>914.979980</td>\n",
       "      <td>942.849976</td>\n",
       "      <td>907.090027</td>\n",
       "      <td>921.159973</td>\n",
       "      <td>27327200</td>\n",
       "    </tr>\n",
       "    <tr>\n",
       "      <th>2022-03-22</th>\n",
       "      <td>930.000000</td>\n",
       "      <td>997.859985</td>\n",
       "      <td>921.750000</td>\n",
       "      <td>993.979980</td>\n",
       "      <td>35289500</td>\n",
       "    </tr>\n",
       "    <tr>\n",
       "      <th>2022-03-23</th>\n",
       "      <td>979.940002</td>\n",
       "      <td>1040.699951</td>\n",
       "      <td>976.400024</td>\n",
       "      <td>999.109985</td>\n",
       "      <td>40225400</td>\n",
       "    </tr>\n",
       "    <tr>\n",
       "      <th>2022-03-24</th>\n",
       "      <td>1009.729980</td>\n",
       "      <td>1024.489990</td>\n",
       "      <td>988.799988</td>\n",
       "      <td>1013.919983</td>\n",
       "      <td>22901900</td>\n",
       "    </tr>\n",
       "  </tbody>\n",
       "</table>\n",
       "<p>2956 rows × 5 columns</p>\n",
       "</div>"
      ],
      "text/plain": [
       "                   Open         High         Low        Close    Volume\n",
       "Date                                                                   \n",
       "2010-06-29     3.800000     5.000000    3.508000     4.778000  93831500\n",
       "2010-06-30     5.158000     6.084000    4.660000     4.766000  85935500\n",
       "2010-07-01     5.000000     5.184000    4.054000     4.392000  41094000\n",
       "2010-07-02     4.600000     4.620000    3.742000     3.840000  25699000\n",
       "2010-07-06     4.000000     4.000000    3.166000     3.222000  34334500\n",
       "...                 ...          ...         ...          ...       ...\n",
       "2022-03-18   874.489990   907.849976  867.390015   905.390015  33408500\n",
       "2022-03-21   914.979980   942.849976  907.090027   921.159973  27327200\n",
       "2022-03-22   930.000000   997.859985  921.750000   993.979980  35289500\n",
       "2022-03-23   979.940002  1040.699951  976.400024   999.109985  40225400\n",
       "2022-03-24  1009.729980  1024.489990  988.799988  1013.919983  22901900\n",
       "\n",
       "[2956 rows x 5 columns]"
      ]
     },
     "metadata": {},
     "output_type": "display_data"
    }
   ],
   "source": [
    "display(df)"
   ]
  },
  {
   "cell_type": "code",
   "execution_count": 4,
   "metadata": {},
   "outputs": [],
   "source": [
    "from MultiArmedBanditTrader import MultiArmedBanditTrader\n",
    "from TradingAgent import TradingAgent\n",
    "\n",
    "from TradingEnvironment import TradingEnvironment\n",
    "from DeepTradingEnvironment import DeepTradingEnvironment"
   ]
  },
  {
   "cell_type": "markdown",
   "metadata": {},
   "source": [
    "##### **Regular Agent**"
   ]
  },
  {
   "cell_type": "code",
   "execution_count": 5,
   "metadata": {},
   "outputs": [],
   "source": [
    "trading_env = TradingEnvironment(df)\n",
    "agent = MultiArmedBanditTrader(epsilon=0.5)"
   ]
  },
  {
   "cell_type": "code",
   "execution_count": 6,
   "metadata": {},
   "outputs": [],
   "source": [
    "total_rewards = []\n",
    "\n",
    "for episode in range(100): # nb of simulation episodes\n",
    "\n",
    "    trading_env.current_step = 0\n",
    "    trading_env.balance = 10000\n",
    "    trading_env.shares = 0\n",
    "\n",
    "    agent.q_values = {action: 0.0 for action in agent.actions}\n",
    "    agent.action_counts = {action: 0 for action in agent.actions}\n",
    "\n",
    "    episode_reward = 0\n",
    "    done = False\n",
    "\n",
    "    while not done:\n",
    "        \n",
    "        action = agent.choose_action()\n",
    "        reward, done = trading_env.step(action)\n",
    "        agent.update_q_values(action, reward)\n",
    "        episode_reward += reward\n",
    "    \n",
    "    total_rewards.append(episode_reward)"
   ]
  },
  {
   "cell_type": "markdown",
   "metadata": {},
   "source": [
    "##### **Random Agent**"
   ]
  },
  {
   "cell_type": "code",
   "execution_count": 7,
   "metadata": {},
   "outputs": [],
   "source": [
    "trading_env = TradingEnvironment(df)\n",
    "random_agent = MultiArmedBanditTrader(epsilon=1.0)"
   ]
  },
  {
   "cell_type": "code",
   "execution_count": 8,
   "metadata": {},
   "outputs": [],
   "source": [
    "random_rewards = []\n",
    "\n",
    "for episode in range(100):\n",
    "   \n",
    "    trading_env.current_step = 0\n",
    "    trading_env.balance = 10000\n",
    "    trading_env.shares = 0\n",
    "    random_agent.q_values = {action: 0.0 for action in random_agent.actions}\n",
    "    random_agent.action_counts = {action: 0 for action in random_agent.actions}\n",
    "\n",
    "    episode_reward = 0\n",
    "    done = False\n",
    "\n",
    "    while not done:\n",
    "        action = random_agent.choose_action()\n",
    "        reward, done = trading_env.step(action)\n",
    "        random_agent.update_q_values(action, reward)\n",
    "        episode_reward += reward\n",
    "    \n",
    "    random_rewards.append(episode_reward)"
   ]
  },
  {
   "cell_type": "markdown",
   "metadata": {},
   "source": [
    "##### **DQN Agent** "
   ]
  },
  {
   "cell_type": "code",
   "execution_count": 9,
   "metadata": {},
   "outputs": [],
   "source": [
    "trading_env = DeepTradingEnvironment(df, window_size=128)"
   ]
  },
  {
   "cell_type": "code",
   "execution_count": 10,
   "metadata": {},
   "outputs": [
    {
     "name": "stdout",
     "output_type": "stream",
     "text": [
      "Episode 1/100, Reward: 425478.42, Epsilon: 0.99\n",
      "Episode 2/100, Reward: 4968738.25, Epsilon: 0.98\n",
      "Episode 3/100, Reward: 5459081.59, Epsilon: 0.97\n",
      "Episode 4/100, Reward: 1128847.90, Epsilon: 0.96\n",
      "Episode 5/100, Reward: 895190.69, Epsilon: 0.95\n",
      "Episode 6/100, Reward: 292512.52, Epsilon: 0.94\n",
      "Episode 7/100, Reward: 4505995.04, Epsilon: 0.93\n",
      "Episode 8/100, Reward: 826828.44, Epsilon: 0.92\n",
      "Episode 9/100, Reward: 647579.40, Epsilon: 0.91\n",
      "Episode 10/100, Reward: 6166268.10, Epsilon: 0.90\n",
      "Episode 11/100, Reward: 4456921.01, Epsilon: 0.90\n",
      "Episode 12/100, Reward: 2260936.22, Epsilon: 0.89\n",
      "Episode 13/100, Reward: 4581010.23, Epsilon: 0.88\n",
      "Episode 14/100, Reward: 96840.27, Epsilon: 0.87\n",
      "Episode 15/100, Reward: 1744473.15, Epsilon: 0.86\n",
      "Episode 16/100, Reward: 3997879.96, Epsilon: 0.85\n",
      "Episode 17/100, Reward: 105479.00, Epsilon: 0.84\n",
      "Episode 18/100, Reward: 616978.56, Epsilon: 0.83\n",
      "Episode 19/100, Reward: 11045225.04, Epsilon: 0.83\n",
      "Episode 20/100, Reward: 1746359.07, Epsilon: 0.82\n",
      "Episode 21/100, Reward: -189500.97, Epsilon: 0.81\n",
      "Episode 22/100, Reward: 3522094.60, Epsilon: 0.80\n",
      "Episode 23/100, Reward: 972701.21, Epsilon: 0.79\n",
      "Episode 24/100, Reward: 1013235.46, Epsilon: 0.79\n",
      "Episode 25/100, Reward: 1066951.53, Epsilon: 0.78\n",
      "Episode 26/100, Reward: 5719619.79, Epsilon: 0.77\n",
      "Episode 27/100, Reward: 324360.27, Epsilon: 0.76\n",
      "Episode 28/100, Reward: 628344.48, Epsilon: 0.75\n",
      "Episode 29/100, Reward: 2094445.39, Epsilon: 0.75\n",
      "Episode 30/100, Reward: 715955.74, Epsilon: 0.74\n",
      "Episode 31/100, Reward: 1381916.54, Epsilon: 0.73\n",
      "Episode 32/100, Reward: 2649031.12, Epsilon: 0.72\n",
      "Episode 33/100, Reward: 1259994.30, Epsilon: 0.72\n",
      "Episode 34/100, Reward: 270962.19, Epsilon: 0.71\n",
      "Episode 35/100, Reward: 392795.41, Epsilon: 0.70\n",
      "Episode 36/100, Reward: 2845574.75, Epsilon: 0.70\n",
      "Episode 37/100, Reward: 3609288.72, Epsilon: 0.69\n",
      "Episode 38/100, Reward: 6030358.84, Epsilon: 0.68\n",
      "Episode 39/100, Reward: 852476.00, Epsilon: 0.68\n",
      "Episode 40/100, Reward: 1644124.88, Epsilon: 0.67\n",
      "Episode 41/100, Reward: 1798256.07, Epsilon: 0.66\n",
      "Episode 42/100, Reward: 668312.66, Epsilon: 0.66\n",
      "Episode 43/100, Reward: 1495099.38, Epsilon: 0.65\n",
      "Episode 44/100, Reward: 876411.53, Epsilon: 0.64\n",
      "Episode 45/100, Reward: 10107409.19, Epsilon: 0.64\n",
      "Episode 46/100, Reward: 19525125.90, Epsilon: 0.63\n",
      "Episode 47/100, Reward: 4913791.24, Epsilon: 0.62\n",
      "Episode 48/100, Reward: 6564982.15, Epsilon: 0.62\n",
      "Episode 49/100, Reward: 4204977.40, Epsilon: 0.61\n",
      "Episode 50/100, Reward: 9235012.71, Epsilon: 0.61\n",
      "Episode 51/100, Reward: 4937210.61, Epsilon: 0.60\n",
      "Episode 52/100, Reward: 809429.92, Epsilon: 0.59\n",
      "Episode 53/100, Reward: 1266586.23, Epsilon: 0.59\n",
      "Episode 54/100, Reward: 697726.44, Epsilon: 0.58\n",
      "Episode 55/100, Reward: 551904.06, Epsilon: 0.58\n",
      "Episode 56/100, Reward: 576673.10, Epsilon: 0.57\n",
      "Episode 57/100, Reward: 449822.74, Epsilon: 0.56\n",
      "Episode 58/100, Reward: 758832.50, Epsilon: 0.56\n",
      "Episode 59/100, Reward: 2188290.60, Epsilon: 0.55\n",
      "Episode 60/100, Reward: 264608.48, Epsilon: 0.55\n",
      "Episode 61/100, Reward: 560397.57, Epsilon: 0.54\n",
      "Episode 62/100, Reward: 439965.37, Epsilon: 0.54\n",
      "Episode 63/100, Reward: 355809.92, Epsilon: 0.53\n",
      "Episode 64/100, Reward: 7187970.27, Epsilon: 0.53\n",
      "Episode 65/100, Reward: 4586496.85, Epsilon: 0.52\n",
      "Episode 66/100, Reward: 1212106.77, Epsilon: 0.52\n",
      "Episode 67/100, Reward: 777245.63, Epsilon: 0.51\n",
      "Episode 68/100, Reward: 121341.63, Epsilon: 0.50\n",
      "Episode 69/100, Reward: 4392086.49, Epsilon: 0.50\n",
      "Episode 70/100, Reward: 1553148.73, Epsilon: 0.49\n",
      "Episode 71/100, Reward: 544125.39, Epsilon: 0.49\n",
      "Episode 72/100, Reward: 645782.91, Epsilon: 0.48\n",
      "Episode 73/100, Reward: 510775.50, Epsilon: 0.48\n",
      "Episode 74/100, Reward: 753598.01, Epsilon: 0.48\n",
      "Episode 75/100, Reward: 1344848.68, Epsilon: 0.47\n",
      "Episode 76/100, Reward: 421579.07, Epsilon: 0.47\n",
      "Episode 77/100, Reward: 1289260.64, Epsilon: 0.46\n",
      "Episode 78/100, Reward: 1950176.62, Epsilon: 0.46\n",
      "Episode 79/100, Reward: 115811.33, Epsilon: 0.45\n",
      "Episode 80/100, Reward: 990891.25, Epsilon: 0.45\n",
      "Episode 81/100, Reward: -62200.29, Epsilon: 0.44\n",
      "Episode 82/100, Reward: 4813848.08, Epsilon: 0.44\n",
      "Episode 83/100, Reward: 339251.88, Epsilon: 0.43\n",
      "Episode 84/100, Reward: 1271694.56, Epsilon: 0.43\n",
      "Episode 85/100, Reward: 275893.14, Epsilon: 0.43\n",
      "Episode 86/100, Reward: 327300.34, Epsilon: 0.42\n",
      "Episode 87/100, Reward: 3397727.63, Epsilon: 0.42\n",
      "Episode 88/100, Reward: 482640.29, Epsilon: 0.41\n",
      "Episode 89/100, Reward: 987460.41, Epsilon: 0.41\n",
      "Episode 90/100, Reward: 350228.07, Epsilon: 0.40\n",
      "Episode 91/100, Reward: 615199.77, Epsilon: 0.40\n",
      "Episode 92/100, Reward: 521164.88, Epsilon: 0.40\n",
      "Episode 93/100, Reward: 6041214.06, Epsilon: 0.39\n",
      "Episode 94/100, Reward: 19676.20, Epsilon: 0.39\n",
      "Episode 95/100, Reward: 604128.14, Epsilon: 0.38\n",
      "Episode 96/100, Reward: 248373.46, Epsilon: 0.38\n",
      "Episode 97/100, Reward: 6213094.01, Epsilon: 0.38\n",
      "Episode 98/100, Reward: 1473603.30, Epsilon: 0.37\n",
      "Episode 99/100, Reward: 7171745.47, Epsilon: 0.37\n",
      "Episode 100/100, Reward: 3035330.84, Epsilon: 0.37\n"
     ]
    }
   ],
   "source": [
    "state_size = trading_env.window_size\n",
    "action_size = 3 # Buy, Sell, Hold\n",
    "agent = TradingAgent(state_size, action_size, df.shape[1])\n",
    "\n",
    "num_episodes = 100\n",
    "dqn_rewards = []\n",
    "\n",
    "for episode in range(num_episodes):\n",
    "    \n",
    "    state = trading_env.reset() # return a window (slice) of the dataframe\n",
    "    episode_reward = 0\n",
    "\n",
    "    while not trading_env.done:\n",
    "            \n",
    "        action = agent.choose_action(state) # Select the action\n",
    "        next_state, reward, done = trading_env.step(action) # Execute the action\n",
    "        agent.remember(state, action, reward, next_state, done) # Store the experience\n",
    "        state = next_state\n",
    "        episode_reward += reward\n",
    "\n",
    "    dqn_rewards.append(episode_reward)\n",
    "    \n",
    "    agent.replay() # update model's weights\n",
    "    print(f'Episode {episode+1}/{num_episodes}, Reward: {episode_reward:.2f}, Epsilon: {agent.epsilon:.2f}')"
   ]
  },
  {
   "cell_type": "markdown",
   "metadata": {},
   "source": [
    "##### **Results**"
   ]
  },
  {
   "cell_type": "code",
   "execution_count": 11,
   "metadata": {},
   "outputs": [
    {
     "data": {
      "application/vnd.plotly.v1+json": {
       "config": {
        "plotlyServerURL": "https://plot.ly"
       },
       "data": [
        {
         "hovertemplate": "variable=Regular Agent<br>Runs=%{x}<br>Total Rewards=%{y}<extra></extra>",
         "legendgroup": "Regular Agent",
         "line": {
          "color": "#636efa",
          "dash": "solid"
         },
         "marker": {
          "symbol": "circle"
         },
         "mode": "lines",
         "name": "Regular Agent",
         "orientation": "v",
         "showlegend": true,
         "type": "scatter",
         "x": {
          "bdata": "AAECAwQFBgcICQoLDA0ODxAREhMUFRYXGBkaGxwdHh8gISIjJCUmJygpKissLS4vMDEyMzQ1Njc4OTo7PD0+P0BBQkNERUZHSElKS0xNTk9QUVJTVFVWV1hZWltcXV5fYGFiYw==",
          "dtype": "i1"
         },
         "xaxis": "x",
         "y": {
          "bdata": "csRzuux4D0HCUiDCoez0QCACxDHC8uZA962ogcvZC0HRCX6K9lkMQcB/bu+JDQZBiQ8gL1+C4UAwkp0Nto7zQFekYIFvbNZAusUH8tzu70Bfo9jEEwP9QKxO6uK8OCRB84vvIUw4/ED8rI+svN/yQEp+nT08JsJAExkwBYHS8EDZfFNfP1kFQf3YwJxUR/FARfddEYxzA0HDSm0KJMwNQd2OMgOWAw1Btd4wwIbDEkHD1vKTdxAMQRVZsVGE4+JAL1aLdlC4C0HIgHCLRw3EQOR4LC+kzfBAG2UVIHYAD0EKvI/AccDyQAyp7NOQfddApXANfjl15UAHIUr3X035QC4sun/LlfpAX/ntd6E980Dkl/zMN2P+QJbT0G5+ov1A+FzDUpAgCUF1RUJ9jz33QAqLKmKlsAFBBQI6FYo2BUE/AIMIehz4QEZGMTpFIA1BqT2SOaLy50BP05fF9ivrQDzzDJbTPANBhIMXCka32kD+5UooR87tQOCisRvuvAZBwbGwUsdR7EA0dYuhkQDdQO9/Q3JVo+hAV+HPqQ6eFUGpk4PAAYHyQNZ+NFJMaAhB9FazwPH2x0DqDUcPsSjxQLf1plvD6vVAhnoMgWBS8UCYHmxYOFfmQGOnzYDXgtdAC3mqqMwg+UCkieGnKMnhQNzOyEWv6tlASBc2mg6ZE0G5X869PmYOQWel0Pl5A+xAitWUuvdLCkEwbNpRy4n4QDLgJoyU5vRA/pek89iP3ED+kJ6XehwJQTsAxe+Zv+hASFaHWIfs/0A23mWFkpH5QBFd9BjSwRhB2VbTjbve5kAvcTagXHwSQdL2jOBA5QJBDAjqDH/w80Aill1DR7bqQAn9SxbvT9pA1pZf52MRCEEfugqPUzLlQOZmlhy+BsFAlSVLO5WNDUHHd86x1m7uQOW2EauvceRAMkrn/VS7w0BkMc0nmpf/QO/PU8q5DfhAjGM++OJqA0HFEchjmX/3QFmtqW6M0hZBQyCsEYJw8kBHKKG4O6b2QFWJgaYv6vRAgLdiNS4i+0DpWwEdVnr3QOIueTE2Mu9AKolKXKM/8EA=",
          "dtype": "f8"
         },
         "yaxis": "y"
        },
        {
         "hovertemplate": "variable=Random Agent<br>Runs=%{x}<br>Total Rewards=%{y}<extra></extra>",
         "legendgroup": "Random Agent",
         "line": {
          "color": "#EF553B",
          "dash": "solid"
         },
         "marker": {
          "symbol": "circle"
         },
         "mode": "lines",
         "name": "Random Agent",
         "orientation": "v",
         "showlegend": true,
         "type": "scatter",
         "x": {
          "bdata": "AAECAwQFBgcICQoLDA0ODxAREhMUFRYXGBkaGxwdHh8gISIjJCUmJygpKissLS4vMDEyMzQ1Njc4OTo7PD0+P0BBQkNERUZHSElKS0xNTk9QUVJTVFVWV1hZWltcXV5fYGFiYw==",
          "dtype": "i1"
         },
         "xaxis": "x",
         "y": {
          "bdata": "KRhdqB8HAUFQaMPqaDcJQU5Qq8Cnhe1A6PcVbGsh3kC8KsojCh6+QK8jwB5zPQVBtOXDXK6RAkF09qC3gLsEQYwjT04KUuNAXNYH0vnDvkDSTyl9mlECQdhB3NsVWspAUEgwDOf69UDZyJdwnR70QIrW+d1Vu+9AQT6YO50c8EBCW/DQ+coFQU6w8gn7kxFBBKRsIWSosMDynBbtYqr0QDb5s23A+wtBwIHCxDYS4kB3TNFlqmjtQGfrO03I/RdB6IwAJBiA7UDngI0nE70VQYL+lJTpEu9Aa8EyRuR1+UBqyUq26xwIQb364tFQJ+tAbq2IMw0Z60AWayTcex4VQTkiXFDrYghB3SRIdY/NH0HAm8R+UuTTQI32iIA0UvZATuDyzNh2BEF2AobbPCHXQBKe1gWfm/tABIdXXWH480A67a2htLgSQbiURsFOzO5Aa1bRbS2o+kCh4BbdKgrvQD2rse/pQxNBLVAmCzgm4EC+3zuPeNYIQYRimxzyJQ9Bp8NPaZJRQEFVsa/682AVQaqWPi0w5QdBHsEZvjfeEUHYDrTvGJ/WQGbiwPIUZ+9AbPuJoqGr50BeXPkFY1/oQNlk6e+veORAQ76xHcEXCUHzpdeXQg4BQSWfKEXP8/tAuMaUEVRHE0Ew/nP7qO3tQE3QvkiApBJBkwswIpraCUEYrJyhEF8JQVjwC66ldP1AzGA/jRvo/0D+6GDhYHj5QNY33FXEBNhAqsXRfz15AEGIAsz+vQYkQXfiMLnKUkFB2nbjlNomDUFXmULX5JwYQfwCo8E2mvhA9BxU4WF4/ECKZ8Q9YeHsQCYVUZYTqQVBIOFXmD4lF0HYAxA08Lv2QKyQD0XhJy9B0M5BFKPxE0H1P0Qtiij5QBy2I588pQlB4rvS7yy98ECeccm5dVz4QPxUoIHWqedAsDfQUz++8kAi5/aKdK3cQCAaY6MfgfRAC6xDc3C2CkHuIsLxVkkKQfwfoRKTIwBBjVbouYVA7UC1Z3zaRNb8QDa56JDsr+NAYQjUqpH8EUHNdUPMto/2QDAQTYLUfwRBncXwurmX5UA=",
          "dtype": "f8"
         },
         "yaxis": "y"
        },
        {
         "hovertemplate": "variable=DQN Agent<br>Runs=%{x}<br>Total Rewards=%{y}<extra></extra>",
         "legendgroup": "DQN Agent",
         "line": {
          "color": "#00cc96",
          "dash": "solid"
         },
         "marker": {
          "symbol": "circle"
         },
         "mode": "lines",
         "name": "DQN Agent",
         "orientation": "v",
         "showlegend": true,
         "type": "scatter",
         "x": {
          "bdata": "AAECAwQFBgcICQoLDA0ODxAREhMUFRYXGBkaGxwdHh8gISIjJCUmJygpKissLS4vMDEyMzQ1Njc4OTo7PD0+P0BBQkNERUZHSElKS0xNTk9QUVJTVFVWV1hZWltcXV5fYGFiYw==",
          "dtype": "i1"
         },
         "xaxis": "x",
         "y": {
          "bdata": "NPIjrhn4GUFPL7+PSPRSQYggB2Yi01RBGDen5o85MUHRLjRfrVErQdlW7A+C2hFBr9LdwmIwUUHDO9zemDspQXiVfMw2wyNBYb4uBr+FV0FwKlJAdgBRQWfSNBzkP0FBctfZjqR5UUHN7sxEhKT3QFujcyZZnjpBtg95+1uATkEnnUjwb8D5QC9WKR0l1CJBn9dYIS0RZUE/KZMSt6U6QShVacvnIQfBfHy0TBffSkHHceBtOq8tQRGasuvm6y5BvGiPh8dHMEGNE7TykNFVQSxaRxUhzBNBgBka9/AsI0GKgSBkbfU/QZijOXpn2SVBN9BDiRwWNUEx9uyP4zVEQVLlQk3aOTNB+l30xciJEEERahSibfkXQcddhF/DtUVBzoEeXGSJS0FOd9e1BQFXQcLiqf/3AypBl98U4lwWOUGCvFcRcHA7QRivQFQxZSRBZ8GLYjvQNkG3jeoM974qQTe3CSZCR2NBifdcXuCeckHzbizPn75SQcjbSokdC1lBRHVzWWwKUEE+f9qWSJ1hQYoD6KZ+1VJBioDR1auzKEFHTiY6mlMzQQ6n6OD8SiVB7QLQIMDXIEF3c381QpkhQXJ1q/d6dBtB+ws9AmEoJ0Fpvd9MAbJAQcdd9uuBJhBBpVPlIxsaIUF8rdl6ddoaQf51bqqHtxVBKo9ukYBrW0FzVDU2AH9RQexwdMXKfjJBduqtQTu4J0HYcwsd2p/9QA7lfZ8lwVBBN+P7uvyyN0EcRnrJ+pogQdTTR9AttSNBOrgfAN4sH0F1aJEFfP8mQQZeLa9QhTRBct8xTCy7GUFQB7KiLKwzQbHw9Z3gwT1BEYwRSTVG/ECkurmAVj0uQbE1ziYJX+7AXP/nBAZdUkHHvtaFz7QUQblh246OZzNBzOkki9TWEEGtXaFfEfoTQT9VhdAv7ElBDqmiKEF1HUH3qznQiCIuQVPQJkdQYBVBfnNGjD/GIkHUsFGGM88fQQk+zYOfC1dBhpeKjQw300B4mPZFwG8iQXSJlbGrUQ5BN86mgHmzV0EG/UxNQ3w2QacZUl6oW1tB5V8Ea2EoR0E=",
          "dtype": "f8"
         },
         "yaxis": "y"
        }
       ],
       "layout": {
        "legend": {
         "title": {
          "text": "variable"
         },
         "tracegroupgap": 0
        },
        "template": {
         "data": {
          "bar": [
           {
            "error_x": {
             "color": "#2a3f5f"
            },
            "error_y": {
             "color": "#2a3f5f"
            },
            "marker": {
             "line": {
              "color": "#E5ECF6",
              "width": 0.5
             },
             "pattern": {
              "fillmode": "overlay",
              "size": 10,
              "solidity": 0.2
             }
            },
            "type": "bar"
           }
          ],
          "barpolar": [
           {
            "marker": {
             "line": {
              "color": "#E5ECF6",
              "width": 0.5
             },
             "pattern": {
              "fillmode": "overlay",
              "size": 10,
              "solidity": 0.2
             }
            },
            "type": "barpolar"
           }
          ],
          "carpet": [
           {
            "aaxis": {
             "endlinecolor": "#2a3f5f",
             "gridcolor": "white",
             "linecolor": "white",
             "minorgridcolor": "white",
             "startlinecolor": "#2a3f5f"
            },
            "baxis": {
             "endlinecolor": "#2a3f5f",
             "gridcolor": "white",
             "linecolor": "white",
             "minorgridcolor": "white",
             "startlinecolor": "#2a3f5f"
            },
            "type": "carpet"
           }
          ],
          "choropleth": [
           {
            "colorbar": {
             "outlinewidth": 0,
             "ticks": ""
            },
            "type": "choropleth"
           }
          ],
          "contour": [
           {
            "colorbar": {
             "outlinewidth": 0,
             "ticks": ""
            },
            "colorscale": [
             [
              0,
              "#0d0887"
             ],
             [
              0.1111111111111111,
              "#46039f"
             ],
             [
              0.2222222222222222,
              "#7201a8"
             ],
             [
              0.3333333333333333,
              "#9c179e"
             ],
             [
              0.4444444444444444,
              "#bd3786"
             ],
             [
              0.5555555555555556,
              "#d8576b"
             ],
             [
              0.6666666666666666,
              "#ed7953"
             ],
             [
              0.7777777777777778,
              "#fb9f3a"
             ],
             [
              0.8888888888888888,
              "#fdca26"
             ],
             [
              1,
              "#f0f921"
             ]
            ],
            "type": "contour"
           }
          ],
          "contourcarpet": [
           {
            "colorbar": {
             "outlinewidth": 0,
             "ticks": ""
            },
            "type": "contourcarpet"
           }
          ],
          "heatmap": [
           {
            "colorbar": {
             "outlinewidth": 0,
             "ticks": ""
            },
            "colorscale": [
             [
              0,
              "#0d0887"
             ],
             [
              0.1111111111111111,
              "#46039f"
             ],
             [
              0.2222222222222222,
              "#7201a8"
             ],
             [
              0.3333333333333333,
              "#9c179e"
             ],
             [
              0.4444444444444444,
              "#bd3786"
             ],
             [
              0.5555555555555556,
              "#d8576b"
             ],
             [
              0.6666666666666666,
              "#ed7953"
             ],
             [
              0.7777777777777778,
              "#fb9f3a"
             ],
             [
              0.8888888888888888,
              "#fdca26"
             ],
             [
              1,
              "#f0f921"
             ]
            ],
            "type": "heatmap"
           }
          ],
          "histogram": [
           {
            "marker": {
             "pattern": {
              "fillmode": "overlay",
              "size": 10,
              "solidity": 0.2
             }
            },
            "type": "histogram"
           }
          ],
          "histogram2d": [
           {
            "colorbar": {
             "outlinewidth": 0,
             "ticks": ""
            },
            "colorscale": [
             [
              0,
              "#0d0887"
             ],
             [
              0.1111111111111111,
              "#46039f"
             ],
             [
              0.2222222222222222,
              "#7201a8"
             ],
             [
              0.3333333333333333,
              "#9c179e"
             ],
             [
              0.4444444444444444,
              "#bd3786"
             ],
             [
              0.5555555555555556,
              "#d8576b"
             ],
             [
              0.6666666666666666,
              "#ed7953"
             ],
             [
              0.7777777777777778,
              "#fb9f3a"
             ],
             [
              0.8888888888888888,
              "#fdca26"
             ],
             [
              1,
              "#f0f921"
             ]
            ],
            "type": "histogram2d"
           }
          ],
          "histogram2dcontour": [
           {
            "colorbar": {
             "outlinewidth": 0,
             "ticks": ""
            },
            "colorscale": [
             [
              0,
              "#0d0887"
             ],
             [
              0.1111111111111111,
              "#46039f"
             ],
             [
              0.2222222222222222,
              "#7201a8"
             ],
             [
              0.3333333333333333,
              "#9c179e"
             ],
             [
              0.4444444444444444,
              "#bd3786"
             ],
             [
              0.5555555555555556,
              "#d8576b"
             ],
             [
              0.6666666666666666,
              "#ed7953"
             ],
             [
              0.7777777777777778,
              "#fb9f3a"
             ],
             [
              0.8888888888888888,
              "#fdca26"
             ],
             [
              1,
              "#f0f921"
             ]
            ],
            "type": "histogram2dcontour"
           }
          ],
          "mesh3d": [
           {
            "colorbar": {
             "outlinewidth": 0,
             "ticks": ""
            },
            "type": "mesh3d"
           }
          ],
          "parcoords": [
           {
            "line": {
             "colorbar": {
              "outlinewidth": 0,
              "ticks": ""
             }
            },
            "type": "parcoords"
           }
          ],
          "pie": [
           {
            "automargin": true,
            "type": "pie"
           }
          ],
          "scatter": [
           {
            "fillpattern": {
             "fillmode": "overlay",
             "size": 10,
             "solidity": 0.2
            },
            "type": "scatter"
           }
          ],
          "scatter3d": [
           {
            "line": {
             "colorbar": {
              "outlinewidth": 0,
              "ticks": ""
             }
            },
            "marker": {
             "colorbar": {
              "outlinewidth": 0,
              "ticks": ""
             }
            },
            "type": "scatter3d"
           }
          ],
          "scattercarpet": [
           {
            "marker": {
             "colorbar": {
              "outlinewidth": 0,
              "ticks": ""
             }
            },
            "type": "scattercarpet"
           }
          ],
          "scattergeo": [
           {
            "marker": {
             "colorbar": {
              "outlinewidth": 0,
              "ticks": ""
             }
            },
            "type": "scattergeo"
           }
          ],
          "scattergl": [
           {
            "marker": {
             "colorbar": {
              "outlinewidth": 0,
              "ticks": ""
             }
            },
            "type": "scattergl"
           }
          ],
          "scattermap": [
           {
            "marker": {
             "colorbar": {
              "outlinewidth": 0,
              "ticks": ""
             }
            },
            "type": "scattermap"
           }
          ],
          "scattermapbox": [
           {
            "marker": {
             "colorbar": {
              "outlinewidth": 0,
              "ticks": ""
             }
            },
            "type": "scattermapbox"
           }
          ],
          "scatterpolar": [
           {
            "marker": {
             "colorbar": {
              "outlinewidth": 0,
              "ticks": ""
             }
            },
            "type": "scatterpolar"
           }
          ],
          "scatterpolargl": [
           {
            "marker": {
             "colorbar": {
              "outlinewidth": 0,
              "ticks": ""
             }
            },
            "type": "scatterpolargl"
           }
          ],
          "scatterternary": [
           {
            "marker": {
             "colorbar": {
              "outlinewidth": 0,
              "ticks": ""
             }
            },
            "type": "scatterternary"
           }
          ],
          "surface": [
           {
            "colorbar": {
             "outlinewidth": 0,
             "ticks": ""
            },
            "colorscale": [
             [
              0,
              "#0d0887"
             ],
             [
              0.1111111111111111,
              "#46039f"
             ],
             [
              0.2222222222222222,
              "#7201a8"
             ],
             [
              0.3333333333333333,
              "#9c179e"
             ],
             [
              0.4444444444444444,
              "#bd3786"
             ],
             [
              0.5555555555555556,
              "#d8576b"
             ],
             [
              0.6666666666666666,
              "#ed7953"
             ],
             [
              0.7777777777777778,
              "#fb9f3a"
             ],
             [
              0.8888888888888888,
              "#fdca26"
             ],
             [
              1,
              "#f0f921"
             ]
            ],
            "type": "surface"
           }
          ],
          "table": [
           {
            "cells": {
             "fill": {
              "color": "#EBF0F8"
             },
             "line": {
              "color": "white"
             }
            },
            "header": {
             "fill": {
              "color": "#C8D4E3"
             },
             "line": {
              "color": "white"
             }
            },
            "type": "table"
           }
          ]
         },
         "layout": {
          "annotationdefaults": {
           "arrowcolor": "#2a3f5f",
           "arrowhead": 0,
           "arrowwidth": 1
          },
          "autotypenumbers": "strict",
          "coloraxis": {
           "colorbar": {
            "outlinewidth": 0,
            "ticks": ""
           }
          },
          "colorscale": {
           "diverging": [
            [
             0,
             "#8e0152"
            ],
            [
             0.1,
             "#c51b7d"
            ],
            [
             0.2,
             "#de77ae"
            ],
            [
             0.3,
             "#f1b6da"
            ],
            [
             0.4,
             "#fde0ef"
            ],
            [
             0.5,
             "#f7f7f7"
            ],
            [
             0.6,
             "#e6f5d0"
            ],
            [
             0.7,
             "#b8e186"
            ],
            [
             0.8,
             "#7fbc41"
            ],
            [
             0.9,
             "#4d9221"
            ],
            [
             1,
             "#276419"
            ]
           ],
           "sequential": [
            [
             0,
             "#0d0887"
            ],
            [
             0.1111111111111111,
             "#46039f"
            ],
            [
             0.2222222222222222,
             "#7201a8"
            ],
            [
             0.3333333333333333,
             "#9c179e"
            ],
            [
             0.4444444444444444,
             "#bd3786"
            ],
            [
             0.5555555555555556,
             "#d8576b"
            ],
            [
             0.6666666666666666,
             "#ed7953"
            ],
            [
             0.7777777777777778,
             "#fb9f3a"
            ],
            [
             0.8888888888888888,
             "#fdca26"
            ],
            [
             1,
             "#f0f921"
            ]
           ],
           "sequentialminus": [
            [
             0,
             "#0d0887"
            ],
            [
             0.1111111111111111,
             "#46039f"
            ],
            [
             0.2222222222222222,
             "#7201a8"
            ],
            [
             0.3333333333333333,
             "#9c179e"
            ],
            [
             0.4444444444444444,
             "#bd3786"
            ],
            [
             0.5555555555555556,
             "#d8576b"
            ],
            [
             0.6666666666666666,
             "#ed7953"
            ],
            [
             0.7777777777777778,
             "#fb9f3a"
            ],
            [
             0.8888888888888888,
             "#fdca26"
            ],
            [
             1,
             "#f0f921"
            ]
           ]
          },
          "colorway": [
           "#636efa",
           "#EF553B",
           "#00cc96",
           "#ab63fa",
           "#FFA15A",
           "#19d3f3",
           "#FF6692",
           "#B6E880",
           "#FF97FF",
           "#FECB52"
          ],
          "font": {
           "color": "#2a3f5f"
          },
          "geo": {
           "bgcolor": "white",
           "lakecolor": "white",
           "landcolor": "#E5ECF6",
           "showlakes": true,
           "showland": true,
           "subunitcolor": "white"
          },
          "hoverlabel": {
           "align": "left"
          },
          "hovermode": "closest",
          "mapbox": {
           "style": "light"
          },
          "paper_bgcolor": "white",
          "plot_bgcolor": "#E5ECF6",
          "polar": {
           "angularaxis": {
            "gridcolor": "white",
            "linecolor": "white",
            "ticks": ""
           },
           "bgcolor": "#E5ECF6",
           "radialaxis": {
            "gridcolor": "white",
            "linecolor": "white",
            "ticks": ""
           }
          },
          "scene": {
           "xaxis": {
            "backgroundcolor": "#E5ECF6",
            "gridcolor": "white",
            "gridwidth": 2,
            "linecolor": "white",
            "showbackground": true,
            "ticks": "",
            "zerolinecolor": "white"
           },
           "yaxis": {
            "backgroundcolor": "#E5ECF6",
            "gridcolor": "white",
            "gridwidth": 2,
            "linecolor": "white",
            "showbackground": true,
            "ticks": "",
            "zerolinecolor": "white"
           },
           "zaxis": {
            "backgroundcolor": "#E5ECF6",
            "gridcolor": "white",
            "gridwidth": 2,
            "linecolor": "white",
            "showbackground": true,
            "ticks": "",
            "zerolinecolor": "white"
           }
          },
          "shapedefaults": {
           "line": {
            "color": "#2a3f5f"
           }
          },
          "ternary": {
           "aaxis": {
            "gridcolor": "white",
            "linecolor": "white",
            "ticks": ""
           },
           "baxis": {
            "gridcolor": "white",
            "linecolor": "white",
            "ticks": ""
           },
           "bgcolor": "#E5ECF6",
           "caxis": {
            "gridcolor": "white",
            "linecolor": "white",
            "ticks": ""
           }
          },
          "title": {
           "x": 0.05
          },
          "xaxis": {
           "automargin": true,
           "gridcolor": "white",
           "linecolor": "white",
           "ticks": "",
           "title": {
            "standoff": 15
           },
           "zerolinecolor": "white",
           "zerolinewidth": 2
          },
          "yaxis": {
           "automargin": true,
           "gridcolor": "white",
           "linecolor": "white",
           "ticks": "",
           "title": {
            "standoff": 15
           },
           "zerolinecolor": "white",
           "zerolinewidth": 2
          }
         }
        },
        "title": {
         "text": "Trading performances among some agents"
        },
        "xaxis": {
         "anchor": "y",
         "domain": [
          0,
          1
         ],
         "title": {
          "text": "Runs"
         }
        },
        "yaxis": {
         "anchor": "x",
         "domain": [
          0,
          1
         ],
         "title": {
          "text": "Total Rewards"
         }
        }
       }
      }
     },
     "metadata": {},
     "output_type": "display_data"
    }
   ],
   "source": [
    "data = pd.DataFrame({'Episode': range(len(total_rewards)), \n",
    "                     'Regular Agent': total_rewards,\n",
    "                     'Random Agent': random_rewards,\n",
    "                     'DQN Agent': dqn_rewards\n",
    "                     })\n",
    "\n",
    "fig = px.line(data, x='Episode', y=['Regular Agent', 'Random Agent', 'DQN Agent'], \n",
    "              title='Trading performances among some agents', \n",
    "              labels={'Episode':'Runs', 'value':'Total Rewards', 'Total Reward': 'Regular Agent'})\n",
    "\n",
    "fig.show()"
   ]
  },
  {
   "cell_type": "code",
   "execution_count": 12,
   "metadata": {},
   "outputs": [
    {
     "name": "stdout",
     "output_type": "stream",
     "text": [
      "Average reward per season for Regular Agent 124127.06\n",
      "Average reward per season for Random Agent 197594.84\n",
      "Average reward per season for DQN Agent 2325446.09\n"
     ]
    }
   ],
   "source": [
    "print(f'Average reward per season for Regular Agent {np.mean(total_rewards).item():.2f}')\n",
    "print(f'Average reward per season for Random Agent {np.mean(random_rewards).item():.2f}')\n",
    "print(f'Average reward per season for DQN Agent {np.mean(dqn_rewards).item():.2f}')"
   ]
  }
 ],
 "metadata": {
  "kernelspec": {
   "display_name": ".venv",
   "language": "python",
   "name": "python3"
  },
  "language_info": {
   "codemirror_mode": {
    "name": "ipython",
    "version": 3
   },
   "file_extension": ".py",
   "mimetype": "text/x-python",
   "name": "python",
   "nbconvert_exporter": "python",
   "pygments_lexer": "ipython3",
   "version": "3.9.13"
  }
 },
 "nbformat": 4,
 "nbformat_minor": 2
}
